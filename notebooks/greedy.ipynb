{
 "cells": [
  {
   "cell_type": "code",
   "execution_count": 8,
   "metadata": {},
   "outputs": [],
   "source": [
    "from tsp import TSP\n",
    "from tsp.solvers import NNHead, NNWhole, GreedyCycle, RandomSolver, RegretGreedyCycle\n",
    "import matplotlib.pyplot as plt\n",
    "import numpy as np\n",
    "from numba import njit\n",
    "\n",
    "plt.rcParams['figure.figsize'] = [20, 10]"
   ]
  },
  {
   "cell_type": "code",
   "execution_count": null,
   "metadata": {},
   "outputs": [],
   "source": [
    "instance_a = TSP.from_csv('../data/TSPA.csv')\n",
    "instance_a.visualize()"
   ]
  },
  {
   "cell_type": "code",
   "execution_count": null,
   "metadata": {},
   "outputs": [],
   "source": [
    "solver = RandomSolver(instance_a)\n",
    "solution = solver.solve()\n",
    "instance_a.visualize(solution)"
   ]
  },
  {
   "cell_type": "code",
   "execution_count": null,
   "metadata": {},
   "outputs": [],
   "source": [
    "solver = NNHead(instance_a, starting_node=0)\n",
    "solution = solver.solve()\n",
    "instance_a.visualize(solution)"
   ]
  },
  {
   "cell_type": "code",
   "execution_count": null,
   "metadata": {},
   "outputs": [],
   "source": [
    "scores = []\n",
    "for i in range(200):\n",
    "    solver = NNHead(instance_a, starting_node=i)\n",
    "    solution = solver.solve()\n",
    "    scores.append(instance_a.score(solution))\n",
    "np.mean(scores)"
   ]
  },
  {
   "cell_type": "code",
   "execution_count": null,
   "metadata": {},
   "outputs": [],
   "source": [
    "solver = NNWhole(instance_a, starting_node=0)\n",
    "solution = solver.solve()\n",
    "instance_a.visualize(solution)"
   ]
  },
  {
   "cell_type": "code",
   "execution_count": null,
   "metadata": {},
   "outputs": [],
   "source": [
    "scores = []\n",
    "for i in range(200):\n",
    "    solver = NNWhole(instance_a, starting_node=i)\n",
    "    solution = solver.solve()\n",
    "    scores.append(instance_a.score(solution))\n",
    "np.mean(scores)"
   ]
  },
  {
   "cell_type": "code",
   "execution_count": null,
   "metadata": {},
   "outputs": [],
   "source": [
    "solver = GreedyCycle(instance_a, starting_node=0)\n",
    "solution = solver.solve()\n",
    "instance_a.visualize(solution)"
   ]
  },
  {
   "cell_type": "code",
   "execution_count": null,
   "metadata": {},
   "outputs": [],
   "source": [
    "scores = []\n",
    "for i in range(200):\n",
    "    solver = GreedyCycle(instance_a, starting_node=i)\n",
    "    solution = solver.solve()\n",
    "    scores.append(instance_a.score(solution))\n",
    "np.mean(scores)"
   ]
  },
  {
   "cell_type": "code",
   "execution_count": null,
   "metadata": {},
   "outputs": [],
   "source": []
  },
  {
   "cell_type": "code",
   "execution_count": 13,
   "metadata": {},
   "outputs": [],
   "source": [
    "from tsp.solvers import Solver, pairwise_circular, GreedyCycle\n",
    "from tsp import TSP\n",
    "\n",
    "import numpy as np\n",
    "import numba as nb\n",
    "\n",
    "\n",
    "class RegretGreedyCycle(Solver):\n",
    "    def __init__(self, problem: TSP, starting_node: int):\n",
    "        self.problem = problem\n",
    "        self.starting_node = starting_node\n",
    "\n",
    "    def solve(self) -> np.ndarray:\n",
    "        return RegretGreedyCycle._solve(\n",
    "            self.problem.D,\n",
    "            self.starting_node,\n",
    "            self.problem.solution_size,\n",
    "        )\n",
    "\n",
    "    @staticmethod\n",
    "    def _solve(D, starting, solution_size):\n",
    "        solution = [starting]\n",
    "        visited = np.zeros(len(D))\n",
    "        visited[starting] = 1\n",
    "\n",
    "        for _ in range(solution_size - 1):\n",
    "            best_i, best_node, best_regret = -1, -1, np.inf\n",
    "            for node in np.where(visited == 0)[0]:\n",
    "                bests = []\n",
    "                for i, (first, second) in enumerate(pairwise_circular(solution)):\n",
    "                    delta = D[first, node] + D[node, second] - D[first, second]\n",
    "                    bests.append((delta,i))\n",
    "                \n",
    "                if(len(bests)==1):\n",
    "                    best_node = node\n",
    "                else:\n",
    "                    bests = sorted(bests, key=lambda x: x[0])\n",
    "                print(bests)\n",
    "                regret = bests[0][0] - bests[1][0]\n",
    "                if delta < best_regret:\n",
    "                    best_i, best_node, best_regret = bests[0][1], node, regret\n",
    "            solution.insert(best_i + 1, best_node)\n",
    "            visited[best_node] = 1\n",
    "        return np.array(solution)"
   ]
  },
  {
   "cell_type": "code",
   "execution_count": 14,
   "metadata": {},
   "outputs": [
    {
     "name": "stdout",
     "output_type": "stream",
     "text": [
      "[(4076.0, 0)]\n"
     ]
    },
    {
     "ename": "IndexError",
     "evalue": "list index out of range",
     "output_type": "error",
     "traceback": [
      "\u001b[0;31m---------------------------------------------------------------------------\u001b[0m",
      "\u001b[0;31mIndexError\u001b[0m                                Traceback (most recent call last)",
      "Cell \u001b[0;32mIn[14], line 3\u001b[0m\n\u001b[1;32m      1\u001b[0m instance \u001b[38;5;241m=\u001b[39m TSP\u001b[38;5;241m.\u001b[39mfrom_csv(\u001b[38;5;124m\"\u001b[39m\u001b[38;5;124m../data/\u001b[39m\u001b[38;5;124m\"\u001b[39m \u001b[38;5;241m+\u001b[39m \u001b[38;5;124m\"\u001b[39m\u001b[38;5;124mTSPA.csv\u001b[39m\u001b[38;5;124m\"\u001b[39m)\n\u001b[1;32m      2\u001b[0m solver \u001b[38;5;241m=\u001b[39m RegretGreedyCycle(instance, starting_node\u001b[38;5;241m=\u001b[39m\u001b[38;5;241m0\u001b[39m)\n\u001b[0;32m----> 3\u001b[0m s \u001b[38;5;241m=\u001b[39m \u001b[43msolver\u001b[49m\u001b[38;5;241;43m.\u001b[39;49m\u001b[43msolve\u001b[49m\u001b[43m(\u001b[49m\u001b[43m)\u001b[49m\n\u001b[1;32m      4\u001b[0m s\n",
      "Cell \u001b[0;32mIn[13], line 14\u001b[0m, in \u001b[0;36mRegretGreedyCycle.solve\u001b[0;34m(self)\u001b[0m\n\u001b[1;32m     13\u001b[0m \u001b[38;5;28;01mdef\u001b[39;00m \u001b[38;5;21msolve\u001b[39m(\u001b[38;5;28mself\u001b[39m) \u001b[38;5;241m-\u001b[39m\u001b[38;5;241m>\u001b[39m np\u001b[38;5;241m.\u001b[39mndarray:\n\u001b[0;32m---> 14\u001b[0m     \u001b[38;5;28;01mreturn\u001b[39;00m \u001b[43mRegretGreedyCycle\u001b[49m\u001b[38;5;241;43m.\u001b[39;49m\u001b[43m_solve\u001b[49m\u001b[43m(\u001b[49m\n\u001b[1;32m     15\u001b[0m \u001b[43m        \u001b[49m\u001b[38;5;28;43mself\u001b[39;49m\u001b[38;5;241;43m.\u001b[39;49m\u001b[43mproblem\u001b[49m\u001b[38;5;241;43m.\u001b[39;49m\u001b[43mD\u001b[49m\u001b[43m,\u001b[49m\n\u001b[1;32m     16\u001b[0m \u001b[43m        \u001b[49m\u001b[38;5;28;43mself\u001b[39;49m\u001b[38;5;241;43m.\u001b[39;49m\u001b[43mstarting_node\u001b[49m\u001b[43m,\u001b[49m\n\u001b[1;32m     17\u001b[0m \u001b[43m        \u001b[49m\u001b[38;5;28;43mself\u001b[39;49m\u001b[38;5;241;43m.\u001b[39;49m\u001b[43mproblem\u001b[49m\u001b[38;5;241;43m.\u001b[39;49m\u001b[43msolution_size\u001b[49m\u001b[43m,\u001b[49m\n\u001b[1;32m     18\u001b[0m \u001b[43m    \u001b[49m\u001b[43m)\u001b[49m\n",
      "Cell \u001b[0;32mIn[13], line 39\u001b[0m, in \u001b[0;36mRegretGreedyCycle._solve\u001b[0;34m(D, starting, solution_size)\u001b[0m\n\u001b[1;32m     37\u001b[0m     bests \u001b[38;5;241m=\u001b[39m \u001b[38;5;28msorted\u001b[39m(bests, key\u001b[38;5;241m=\u001b[39m\u001b[38;5;28;01mlambda\u001b[39;00m x: x[\u001b[38;5;241m0\u001b[39m])\n\u001b[1;32m     38\u001b[0m \u001b[38;5;28mprint\u001b[39m(bests)\n\u001b[0;32m---> 39\u001b[0m regret \u001b[38;5;241m=\u001b[39m bests[\u001b[38;5;241m0\u001b[39m][\u001b[38;5;241m0\u001b[39m] \u001b[38;5;241m-\u001b[39m \u001b[43mbests\u001b[49m\u001b[43m[\u001b[49m\u001b[38;5;241;43m1\u001b[39;49m\u001b[43m]\u001b[49m[\u001b[38;5;241m0\u001b[39m]\n\u001b[1;32m     40\u001b[0m \u001b[38;5;28;01mif\u001b[39;00m delta \u001b[38;5;241m<\u001b[39m best_regret:\n\u001b[1;32m     41\u001b[0m     best_i, best_node, best_regret \u001b[38;5;241m=\u001b[39m bests[\u001b[38;5;241m0\u001b[39m][\u001b[38;5;241m1\u001b[39m], node, regret\n",
      "\u001b[0;31mIndexError\u001b[0m: list index out of range"
     ]
    }
   ],
   "source": [
    "instance = TSP.from_csv(\"../data/\" + \"TSPA.csv\")\n",
    "solver = RegretGreedyCycle(instance, starting_node=0)\n",
    "s = solver.solve()\n",
    "s"
   ]
  }
 ],
 "metadata": {
  "kernelspec": {
   "display_name": "venv",
   "language": "python",
   "name": "python3"
  },
  "language_info": {
   "codemirror_mode": {
    "name": "ipython",
    "version": 3
   },
   "file_extension": ".py",
   "mimetype": "text/x-python",
   "name": "python",
   "nbconvert_exporter": "python",
   "pygments_lexer": "ipython3",
   "version": "3.8.10"
  }
 },
 "nbformat": 4,
 "nbformat_minor": 2
}
