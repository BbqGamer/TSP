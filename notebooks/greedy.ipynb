{
 "cells": [
  {
   "cell_type": "code",
   "execution_count": 8,
   "metadata": {},
   "outputs": [],
   "source": [
    "from tsp import TSP\n",
    "from tsp.solvers import NNHead, NNWhole, GreedyCycle, RandomSolver\n",
    "import matplotlib.pyplot as plt\n",
    "import numpy as np\n",
    "from numba import njit\n",
    "\n",
    "plt.rcParams['figure.figsize'] = [20, 10]"
   ]
  },
  {
   "cell_type": "code",
   "execution_count": null,
   "metadata": {},
   "outputs": [],
   "source": [
    "instance_a = TSP.from_csv('../data/TSPA.csv')\n",
    "instance_a.visualize()"
   ]
  },
  {
   "cell_type": "code",
   "execution_count": null,
   "metadata": {},
   "outputs": [],
   "source": [
    "solver = RandomSolver(instance_a)\n",
    "solution = solver.solve()\n",
    "instance_a.visualize(solution)"
   ]
  },
  {
   "cell_type": "code",
   "execution_count": null,
   "metadata": {},
   "outputs": [],
   "source": [
    "solver = NNHead(instance_a, starting_node=0)\n",
    "solution = solver.solve()\n",
    "instance_a.visualize(solution)"
   ]
  },
  {
   "cell_type": "code",
   "execution_count": null,
   "metadata": {},
   "outputs": [],
   "source": [
    "scores = []\n",
    "for i in range(200):\n",
    "    solver = NNHead(instance_a, starting_node=i)\n",
    "    solution = solver.solve()\n",
    "    scores.append(instance_a.score(solution))\n",
    "np.mean(scores)"
   ]
  },
  {
   "cell_type": "code",
   "execution_count": null,
   "metadata": {},
   "outputs": [],
   "source": [
    "solver = NNWhole(instance_a, starting_node=0)\n",
    "solution = solver.solve()\n",
    "instance_a.visualize(solution)"
   ]
  },
  {
   "cell_type": "code",
   "execution_count": null,
   "metadata": {},
   "outputs": [],
   "source": [
    "scores = []\n",
    "for i in range(200):\n",
    "    solver = NNWhole(instance_a, starting_node=i)\n",
    "    solution = solver.solve()\n",
    "    scores.append(instance_a.score(solution))\n",
    "np.mean(scores)"
   ]
  },
  {
   "cell_type": "code",
   "execution_count": null,
   "metadata": {},
   "outputs": [],
   "source": [
    "solver = GreedyCycle(instance_a, starting_node=0)\n",
    "solution = solver.solve()\n",
    "instance_a.visualize(solution)"
   ]
  },
  {
   "cell_type": "code",
   "execution_count": null,
   "metadata": {},
   "outputs": [],
   "source": [
    "scores = []\n",
    "for i in range(200):\n",
    "    solver = GreedyCycle(instance_a, starting_node=i)\n",
    "    solution = solver.solve()\n",
    "    scores.append(instance_a.score(solution))\n",
    "np.mean(scores)"
   ]
  }
 ],
 "metadata": {
  "kernelspec": {
   "display_name": "venv",
   "language": "python",
   "name": "python3"
  },
  "language_info": {
   "codemirror_mode": {
    "name": "ipython",
    "version": 3
   },
   "file_extension": ".py",
   "mimetype": "text/x-python",
   "name": "python",
   "nbconvert_exporter": "python",
   "pygments_lexer": "ipython3",
   "version": "3.11.2"
  }
 },
 "nbformat": 4,
 "nbformat_minor": 2
}
