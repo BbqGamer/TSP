{
 "cells": [
  {
   "cell_type": "markdown",
   "metadata": {},
   "source": [
    "# Greedy heuristics\n",
    "\n",
    "## Description of the problem\n",
    "We are given three columns of integers with a row for each node. The first two columns contain x and y coordinates of the node positions in a plane. The third column contains node costs. The goal is to select exactly 50% of the nodes (if the number of nodes is odd we round the number of nodes to\n",
    "be selected up) and form a Hamiltonian cycle (closed path) through this set of nodes such that the sum of the total length of the path plus the total cost of the selected nodes is minimized. \n",
    "\n",
    "The distances between nodes are calculated as Euclidean distances rounded mathematically to integer values. The distance matrix should be calculated just after reading an instance and then only the distance matrix (no nodes coordinates) should be accessed by optimization methods to allow\n",
    "instances defined only by distance matrices.\n",
    "\n",
    "## Pseudocode for all implemented algorithms\n",
    "### Random solution\n",
    "```python\n",
    "choose randomly without replacement 0.5 * n numbers from 0 to n\n",
    "```\n",
    "\n",
    "### Nearest neighbor considering adding the node only at the end of the current path (NNHead)\n",
    "The program needs the following arguments:\n",
    "- D - distance matrix (after adding weights to corresponding columns), loops are set to be inifinites \n",
    "- starting - first node from which we continue solution\n",
    "At the end of the program solution is in the variable: sol\n",
    "\n",
    "#### Pseudocode\n",
    "```python\n",
    "current = starting\n",
    "sol = [starting]\n",
    "V = {starting}\n",
    "iterate 0.5 * len(D) - 1 times\n",
    "    nn = argmin {D[current][x] where x not in V}\n",
    "    sol.append(nn)\n",
    "    add nn to V\n",
    "    current = nn\n",
    "```\n",
    "\n",
    "### Nearest neighbor considering adding the node at all possible position, i.e. at the end, at the beginning, or at any place inside the current path (NNWhole)\n",
    "#### Pseudocode\n",
    "```python\n",
    "current = starting\n",
    "sol = [starting]\n",
    "NV = {starting}\n",
    "iterate 0.5 * len(D) - 1 times\n",
    "    best_dist = inf\n",
    "    for j from 0 to len(solution) do\n",
    "        nn = argmin {D[solution[j]][x] where x not in V}\n",
    "        dist = D[solution[j]][nn]\n",
    "        if dist < best_dist do\n",
    "            best_dist = dist\n",
    "            best_posj = j\n",
    "            best_nn = nn\n",
    "    insert best_nn to solution at position best_posi\n",
    "    add n to V\n",
    "```\n",
    "### Greedy cycle\n",
    "#### Pseudocode\n",
    "```python\n",
    "current = starting\n",
    "sol = [starting]\n",
    "V = {starting}\n",
    "iterate 0.5 * len(D) - 1 times\n",
    "    best_delta = inf\n",
    "    for i from 0 to len(solution) - 1 do\n",
    "        for j in NV:\n",
    "            delta = D[sol[i], j] + D[j, sol[i+1]] - D[sol[i], sol[i + 1]] \n",
    "            if delta < best_delta do\n",
    "                best_i = i\n",
    "                best_j = j\n",
    "                best_delta = delta\n",
    "    insert best_j to solution at position best_i\n",
    "    remove best_j from NV\n",
    "```\n",
    "\n",
    "## Results of a computational experiment: for each instance and method min, max and average value of the objective function."
   ]
  },
  {
   "cell_type": "code",
   "execution_count": null,
   "metadata": {},
   "outputs": [],
   "source": [
    "import pandas as pd\n",
    "df = pd.read_csv('../results/assignment1.csv', sep=\";\")\n",
    "grouped = df.groupby(['filename', 'solver'])\n",
    "best_results = grouped['score'].agg(['min', 'max', 'mean'])\n",
    "best_results"
   ]
  },
  {
   "cell_type": "code",
   "execution_count": null,
   "metadata": {},
   "outputs": [],
   "source": [
    "import pandas as pd\n",
    "df = pd.read_csv('../results/assignment1.csv', sep=\";\")\n",
    "grouped = df.groupby(['filename', 'solver'])\n",
    "best_results = grouped['score'].agg(['min', 'max', 'mean'])\n",
    "best_results"
   ]
  },
  {
   "cell_type": "markdown",
   "metadata": {},
   "source": [
    "## 2D visualization of the best solution for each instance and method. Cost of nodes should be presented e.g. by a color, greyscale, or size."
   ]
  },
  {
   "cell_type": "code",
   "execution_count": null,
   "metadata": {},
   "outputs": [],
   "source": [
    "from tsp import TSP\n",
    "import matplotlib.pyplot as plt\n",
    "\n",
    "plt.rcParams['figure.figsize'] = [16, 8]\n",
    "\n",
    "best = df.loc[grouped['score'].idxmin()]\n",
    "best"
   ]
  },
  {
   "cell_type": "code",
   "execution_count": 3,
   "metadata": {},
   "outputs": [],
   "source": [
    "instance_a = TSP.from_csv('../data/TSPA.csv')\n",
    "instance_b = TSP.from_csv('../data/TSPB.csv')"
   ]
  },
  {
   "cell_type": "markdown",
   "metadata": {},
   "source": [
    "## The best solutions for each instance and method presented as a list of nodes indices (starting from 0)."
   ]
  },
  {
   "cell_type": "code",
   "execution_count": 4,
   "metadata": {},
   "outputs": [],
   "source": [
    "def rotate_to_zero(solution):\n",
    "    try:\n",
    "        zeroi = solution.index(0)\n",
    "        return solution[zeroi:] + solution[:zeroi] \n",
    "    except:\n",
    "        return solution\n"
   ]
  },
  {
   "cell_type": "markdown",
   "metadata": {},
   "source": [
    "### Results"
   ]
  },
  {
   "cell_type": "code",
   "execution_count": null,
   "metadata": {},
   "outputs": [],
   "source": [
    "for row in best.itertuples():\n",
    "    print(row.filename)\n",
    "    print(row.solver)\n",
    "    instance = instance_a\n",
    "    if row.filename == 'TSPB.csv':\n",
    "        instance = instance_b\n",
    "    print(rotate_to_zero(eval(row.solution)))\n",
    "    instance.visualize(eval(row.solution))\n",
    "    "
   ]
  },
  {
   "cell_type": "markdown",
   "metadata": {},
   "source": [
    "## Information whether the best solutions have been checked with the solution checker.\n",
    "Yes solutions have been checked with solution checker"
   ]
  },
  {
   "cell_type": "markdown",
   "metadata": {},
   "source": [
    "## (Link to) the source code\n",
    "https://github.com/BbqGamer/tsp\n",
    "\n",
    "## Conclusions\n",
    "Greedy methods are nice in the sense that they are easy to implement and to run, in particular NNHead method was very fast (it works in linear time), even if the results weren't too good they were significantly better than random solution, however the solutions from NNHead result in a lot of big jumps which is quite unoptimal. NNWhole results in slightly better results, but probably not enough to justify its higher complexity $O(n^2)$. The best Greedy algorithm out of three tested was GreedyCycle, it resulted in solutions that were more compressed, you can see a step improvement in the results however for the price of the complexity, this algorithm works in $O(n^3)$"
   ]
  }
 ],
 "metadata": {
  "kernelspec": {
   "display_name": "venv",
   "language": "python",
   "name": "python3"
  },
  "language_info": {
   "codemirror_mode": {
    "name": "ipython",
    "version": 3
   },
   "file_extension": ".py",
   "mimetype": "text/x-python",
   "name": "python",
   "nbconvert_exporter": "python",
   "pygments_lexer": "ipython3",
   "version": "3.11.2"
  }
 },
 "nbformat": 4,
 "nbformat_minor": 2
}
